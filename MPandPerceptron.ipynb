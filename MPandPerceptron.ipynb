{
 "cells": [
  {
   "cell_type": "markdown",
   "metadata": {
    "slideshow": {
     "slide_type": "slide"
    }
   },
   "source": [
    "# M-P模型实现"
   ]
  },
  {
   "cell_type": "code",
   "execution_count": 2,
   "metadata": {
    "slideshow": {
     "slide_type": "subslide"
    }
   },
   "outputs": [],
   "source": [
    "import numpy as np \n",
    "\n",
    "def step_func(x):\n",
    "    # 阶跃函数\n",
    "    if x > 0:\n",
    "        return 1\n",
    "    else:\n",
    "        return 0\n",
    "\n",
    "class MP:\n",
    "    # M-P模型类\n",
    "    def __init__(self,w,theta,activate_func=step_func):\n",
    "        self.theta = theta  # 阈值\n",
    "        self.w = w          # 权值\n",
    "        self.activate_func = activate_func  # 激活函数\n",
    "    \n",
    "    def forward(self,x):\n",
    "        u = np.dot(self.w,x)\n",
    "        return self.activate_func(u - self.theta)"
   ]
  },
  {
   "cell_type": "code",
   "execution_count": 232,
   "metadata": {
    "slideshow": {
     "slide_type": "subslide"
    }
   },
   "outputs": [],
   "source": [
    "# 手动设计与或非的MP模型参数\n",
    "mp_and = MP(w=np.array([1,1]),theta=1.5)\n",
    "mp_or = MP(w=np.array([1,1]),theta=0.5)\n",
    "mp_not = MP(w=np.array([-2]),theta=-1)\n",
    "\n",
    "# 数据集\n",
    "X = [(0,0),(0,1),(1,0),(1,1)]\n",
    "Y_and = [0,0,0,1]\n",
    "Y_or = [0,1,1,1]"
   ]
  },
  {
   "cell_type": "code",
   "execution_count": 217,
   "metadata": {
    "slideshow": {
     "slide_type": "notes"
    }
   },
   "outputs": [],
   "source": [
    "import matplotlib.pyplot as plt\n",
    "def draw_and(p,q,a):\n",
    "    x1 = np.arange(-2, 2, 0.1)\n",
    "    x2 = (a - p * x1) / (q)\n",
    "    plt.scatter(1, 1, color='red')\n",
    "    plt.scatter(0, 0, color='blue')\n",
    "    plt.scatter(0, 1, color='blue')\n",
    "    plt.scatter(1, 0, color='blue')\n",
    "    plt.xlim(-1,2)\n",
    "    plt.ylim(-1,2)\n",
    "    plt.plot(x1, x2)\n",
    "    \n",
    "    plt.xlabel(\"x1\")\n",
    "    plt.ylabel(\"x2\")\n",
    "    plt.show()  # 显示坐标图\n",
    "    \n",
    "def draw_or(p,q,a):\n",
    "    x1 = np.arange(-2, 2, 0.1)\n",
    "    x2 = (a - p * x1) / (q)\n",
    "    plt.scatter(1, 1, color='red')\n",
    "    plt.scatter(0, 0, color='blue')\n",
    "    plt.scatter(0, 1, color='red')\n",
    "    plt.scatter(1, 0, color='red')\n",
    "    plt.xlim(-1,2)\n",
    "    plt.ylim(-1,2)\n",
    "    plt.plot(x1, x2)\n",
    "    plt.xlabel(\"x1\")\n",
    "    plt.ylabel(\"x2\")\n",
    "    plt.show()  # 显示坐标图"
   ]
  },
  {
   "cell_type": "code",
   "execution_count": 233,
   "metadata": {
    "slideshow": {
     "slide_type": "subslide"
    }
   },
   "outputs": [
    {
     "name": "stdout",
     "output_type": "stream",
     "text": [
      "AND\t (0, 0) \t正确结果： 0 \t预测结果： 0\n",
      "AND\t (0, 1) \t正确结果： 0 \t预测结果： 0\n",
      "AND\t (1, 0) \t正确结果： 0 \t预测结果： 0\n",
      "AND\t (1, 1) \t正确结果： 1 \t预测结果： 1\n"
     ]
    },
    {
     "data": {
      "image/png": "[encoded data removed]",
      "text/plain": [
       "<Figure size 432x288 with 1 Axes>"
      ]
     },
     "metadata": {
      "needs_background": "light"
     },
     "output_type": "display_data"
    }
   ],
   "source": [
    "for m in zip(X,Y_and):\n",
    "    print('AND\\t',m[0],'\\t正确结果：',m[1],'\\t预测结果：',mp_and.forward(m[0]))\n",
    "    \n",
    "draw_and(1,1,1.5)"
   ]
  },
  {
   "cell_type": "code",
   "execution_count": 234,
   "metadata": {
    "slideshow": {
     "slide_type": "subslide"
    }
   },
   "outputs": [
    {
     "name": "stdout",
     "output_type": "stream",
     "text": [
      "OR\t (0, 0) 正确结果： 0 预测结果： 0\n",
      "OR\t (0, 1) 正确结果： 1 预测结果： 1\n",
      "OR\t (1, 0) 正确结果： 1 预测结果： 1\n",
      "OR\t (1, 1) 正确结果： 1 预测结果： 1\n"
     ]
    },
    {
     "data": {
      "image/png": "[encoded data removed]",
      "text/plain": [
       "<Figure size 432x288 with 1 Axes>"
      ]
     },
     "metadata": {
      "needs_background": "light"
     },
     "output_type": "display_data"
    }
   ],
   "source": [
    "for m in zip(X,Y_or):\n",
    "    print('OR\\t',m[0],'正确结果：',m[-1],'预测结果：',mp_or.forward(m[0]))\n",
    "draw_or(1,1,0.5)"
   ]
  },
  {
   "cell_type": "code",
   "execution_count": 5,
   "metadata": {
    "slideshow": {
     "slide_type": "fragment"
    }
   },
   "outputs": [
    {
     "name": "stdout",
     "output_type": "stream",
     "text": [
      "NOT 0 1\n",
      "NOT 1 0\n"
     ]
    }
   ],
   "source": [
    "for x in [0,1]:    \n",
    "    print('NOT',x,mp_not.forward(x))"
   ]
  },
  {
   "cell_type": "markdown",
   "metadata": {
    "slideshow": {
     "slide_type": "slide"
    }
   },
   "source": [
    "# 感知机模型的实现"
   ]
  },
  {
   "cell_type": "code",
   "execution_count": 235,
   "metadata": {
    "slideshow": {
     "slide_type": "subslide"
    }
   },
   "outputs": [],
   "source": [
    "import numpy as np\n",
    "\n",
    "def sign_func(x):\n",
    "    # 符号函数\n",
    "    if x >= 0:\n",
    "        return 1\n",
    "    else:\n",
    "        return -1\n",
    "    \n",
    "class Perceptron:\n",
    "    # 感知机模型\n",
    "    def __init__(self,dim,lr=0.1,epoch=10,activate_func=sign_func):\n",
    "        self.dim = dim\n",
    "        self.weight = np.random.rand(dim)\n",
    "        self.bias = np.random.rand(1)\n",
    "        self.lr = lr\n",
    "        self.epoch = epoch\n",
    "        self.activate_func = activate_func\n",
    "        self.last_loss = None\n",
    "    \n",
    "    def __str__(self):\n",
    "        return f'weight:{self.weight} bias:{self.bias} loss:{self.last_loss}'\n",
    "    \n",
    "    def loss(self,X,Y):\n",
    "        # 损失函数\n",
    "        l = 0\n",
    "        for x,y in zip(X,Y):\n",
    "            u = np.dot(self.weight,x) + self.bias\n",
    "            y_pred = self.activate_func(u)\n",
    "            if y_pred != y:\n",
    "                l += 1\n",
    "        self.last_loss = l\n",
    "        return l\n",
    "\n",
    "    def train_one_step(self,x,y):\n",
    "        # 训练单步\n",
    "        # 梯度下降法调整权重\n",
    "        u = np.dot(self.weight,x) + self.bias\n",
    "        y_pred = self.activate_func(u)\n",
    "        if y_pred != y:\n",
    "            self.weight += np.dot(self.lr * y,x)\n",
    "            self.bias += self.lr * y\n",
    "        return self.weight,self.bias\n",
    "\n",
    "    def train(self,X,Y):\n",
    "        # 训练\n",
    "        for i in range(self.epoch):\n",
    "            for x,y in zip(X,Y):\n",
    "                self.train_one_step(x,y)\n",
    "                self.loss(X,Y)\n",
    "            # print('epoch:',i,'weight:',self.weight,'bias:',self.bias,'loss:',self.loss(X,Y)\n",
    "\n",
    "    def predict(self,x):\n",
    "        # 预测\n",
    "        u = np.dot(self.weight,x) + self.bias\n",
    "        return self.activate_func(u)"
   ]
  },
  {
   "cell_type": "code",
   "execution_count": 236,
   "metadata": {
    "slideshow": {
     "slide_type": "subslide"
    }
   },
   "outputs": [],
   "source": [
    "#  设置数据集\n",
    "X = [(-1,-1),(-1,1),(1,-1),(1,1)]\n",
    "Y_and = [-1,-1,-1,1]\n",
    "Y_or = [-1,1,1,1]\n",
    "Y_xor = [-1,1,1,-1]\n",
    "\n",
    "# 实例化\n",
    "p_and = Perceptron(dim=2,lr=0.3,epoch=10)\n",
    "p_and.train(X,Y_and)\n",
    "\n",
    "p_or = Perceptron(dim=2,lr=0.3,epoch=10)\n",
    "p_or.train(X,Y_or)\n",
    "\n",
    "p_xor = Perceptron(dim=2,lr=0.3,epoch=10)\n",
    "p_xor.train(X,Y_xor)"
   ]
  },
  {
   "cell_type": "code",
   "execution_count": 227,
   "metadata": {
    "slideshow": {
     "slide_type": "notes"
    }
   },
   "outputs": [],
   "source": [
    "import matplotlib.pyplot as plt\n",
    "def draw2_and(p,q,b):\n",
    "    x1 = np.arange(-2, 2, 0.1)\n",
    "    x2 = ( - b - p*x1 ) / q\n",
    "    plt.scatter(1, 1, color='red')\n",
    "    plt.scatter(-1, -1, color='blue')\n",
    "    plt.scatter(-1, 1, color='blue')\n",
    "    plt.scatter(1, -1, color='blue')\n",
    "    plt.xlim(-2,2)\n",
    "    plt.ylim(-2,2)\n",
    "    plt.plot(x1, x2)\n",
    "    plt.xlabel(\"x1\")\n",
    "    plt.ylabel(\"x2\")\n",
    "    plt.show()  # 显示坐标图\n",
    "    \n",
    "def draw2_or(p,q,b):\n",
    "    x1 = np.arange(-2, 2, 0.1)\n",
    "    x2 = ( - b - p*x1 ) / q\n",
    "    plt.scatter(1, 1, color='red')\n",
    "    plt.scatter(-1, -1, color='blue')\n",
    "    plt.scatter(-1, 1, color='red')\n",
    "    plt.scatter(1, -1, color='red')\n",
    "    plt.xlim(-2,2)\n",
    "    plt.ylim(-2,2)\n",
    "    plt.plot(x1, x2)\n",
    "    plt.xlabel(\"x1\")\n",
    "    plt.ylabel(\"x2\")\n",
    "    plt.show()  # 显示坐标图\n",
    "    \n",
    "def draw2_xor(p,q,b):\n",
    "    x1 = np.arange(-2, 2, 0.1)\n",
    "    x2 = ( - b - p*x1 ) / q\n",
    "    plt.scatter(1, 1, color='red')\n",
    "    plt.scatter(-1, -1, color='red')\n",
    "    plt.scatter(-1, 1, color='blue')\n",
    "    plt.scatter(1, -1, color='blue')\n",
    "    plt.xlim(-2,2)\n",
    "    plt.ylim(-2,2)\n",
    "    plt.plot(x1, x2)\n",
    "    plt.xlabel(\"x1\")\n",
    "    plt.ylabel(\"x2\")\n",
    "    plt.show()  # 显示坐标图"
   ]
  },
  {
   "cell_type": "code",
   "execution_count": 237,
   "metadata": {
    "slideshow": {
     "slide_type": "subslide"
    }
   },
   "outputs": [
    {
     "name": "stdout",
     "output_type": "stream",
     "text": [
      "AND\t (-1, -1) \t正确结果： -1 \t预测结果： -1\n",
      "AND\t (-1, 1) \t正确结果： -1 \t预测结果： -1\n",
      "AND\t (1, -1) \t正确结果： -1 \t预测结果： -1\n",
      "AND\t (1, 1) \t正确结果： 1 \t预测结果： 1\n",
      "weight:[0.45301936 0.2956014 ] bias:[-0.52929178] loss:0\n"
     ]
    },
    {
     "data": {
      "image/png": "[encoded data removed]",
      "text/plain": [
       "<Figure size 432x288 with 1 Axes>"
      ]
     },
     "metadata": {
      "needs_background": "light"
     },
     "output_type": "display_data"
    }
   ],
   "source": [
    "# 与\n",
    "\n",
    "for m in zip(X,Y_and):\n",
    "    print('AND\\t',m[0],'\\t正确结果：',m[-1],'\\t预测结果：',p_and.predict(m[0]))\n",
    "print(p_and)\n",
    "draw2_and(p_and.weight[0],p_and.weight[1],p_and.bias)"
   ]
  },
  {
   "cell_type": "code",
   "execution_count": 238,
   "metadata": {
    "slideshow": {
     "slide_type": "subslide"
    }
   },
   "outputs": [
    {
     "name": "stdout",
     "output_type": "stream",
     "text": [
      "OR\t (-1, -1) \t正确结果： -1 \t预测结果： -1\n",
      "OR\t (-1, 1) \t正确结果： 1 \t预测结果： 1\n",
      "OR\t (1, -1) \t正确结果： 1 \t预测结果： 1\n",
      "OR\t (1, 1) \t正确结果： 1 \t预测结果： 1\n",
      "weight:[0.61929347 0.67498021] bias:[0.53990297] loss:0\n"
     ]
    },
    {
     "data": {
      "image/png": "[encoded data removed]",
      "text/plain": [
       "<Figure size 432x288 with 1 Axes>"
      ]
     },
     "metadata": {
      "needs_background": "light"
     },
     "output_type": "display_data"
    }
   ],
   "source": [
    "# 或\n",
    "\n",
    "for m in zip(X,Y_or):\n",
    "    print('OR\\t',m[0],'\\t正确结果：',m[-1],'\\t预测结果：',p_or.predict(m[0]))\n",
    "print(p_or)\n",
    "draw2_or(p_or.weight[0],p_or.weight[1],p_or.bias)"
   ]
  },
  {
   "cell_type": "code",
   "execution_count": 239,
   "metadata": {
    "slideshow": {
     "slide_type": "subslide"
    }
   },
   "outputs": [
    {
     "name": "stdout",
     "output_type": "stream",
     "text": [
      "XOR\t (-1, -1) \t正确结果： -1 \t预测结果： 1\n",
      "XOR\t (-1, 1) \t正确结果： 1 \t预测结果： -1\n",
      "XOR\t (1, -1) \t正确结果： 1 \t预测结果： 1\n",
      "XOR\t (1, 1) \t正确结果： -1 \t预测结果： -1\n",
      "weight:[ 0.02603104 -0.44504883] bias:[-0.03626733] loss:2\n"
     ]
    },
    {
     "data": {
      "image/png": "[encoded data removed]",
      "text/plain": [
       "<Figure size 432x288 with 1 Axes>"
      ]
     },
     "metadata": {
      "needs_background": "light"
     },
     "output_type": "display_data"
    }
   ],
   "source": [
    "# 异或（无法）\n",
    "\n",
    "for m in zip(X,Y_xor):\n",
    "    print('XOR\\t',m[0],'\\t正确结果：',m[-1],'\\t预测结果：',p_xor.predict(m[0]))\n",
    "print(p_xor)\n",
    "draw2_xor(p_xor.weight[0],p_xor.weight[1],p_xor.bias)"
   ]
  },
  {
   "cell_type": "markdown",
   "metadata": {
    "slideshow": {
     "slide_type": "slide"
    }
   },
   "source": [
    "# 使用口袋算法改进\n",
    "## 引入口袋保存效果最好的权重和结果\n",
    "## 两条规则\n",
    "- 样本随机\n",
    "- 检查结果，防止劣化"
   ]
  },
  {
   "cell_type": "code",
   "execution_count": 240,
   "metadata": {
    "slideshow": {
     "slide_type": "subslide"
    }
   },
   "outputs": [],
   "source": [
    "import random\n",
    "\n",
    "class Pocket:\n",
    "    # 口袋类\n",
    "    # 保存最好的一次权重、偏置和loss值\n",
    "    def __init__(self,weight,bias,loss):\n",
    "        self.weight = weight\n",
    "        self.bias = bias\n",
    "        self.loss = loss\n",
    "\n",
    "class PocketPerceptron(Perceptron):\n",
    "    def __init__(self,dim,lr=0.1,epoch=10,activate_func=sign_func):\n",
    "        super().__init__(dim,lr,epoch,activate_func)\n",
    "        self.pocket = None\n",
    "    \n",
    "    def __str__(self):\n",
    "        return f'weight:{self.pocket.weight} bias:{self.pocket.bias} loss:{self.pocket.loss}'\n",
    "\n",
    "    \n",
    "    def train(self,X,Y):\n",
    "        # 训练\n",
    "        # 随机打乱数据\n",
    "        dataset = list(zip(X,Y))\n",
    "        random.shuffle(dataset)\n",
    "\n",
    "        for i in range(self.epoch):\n",
    "            for x,y in dataset:\n",
    "                w,b = self.train_one_step(x,y)\n",
    "                l = self.loss(X,Y)\n",
    "                if not self.put_into_pocket((l,w,b)):\n",
    "                    # 没有放入口袋就代表结果劣化，放弃结果，参数重置为口袋内参数\n",
    "                    self.weight = self.pocket.weight\n",
    "                    self.bias = self.pocket.bias\n",
    "                    self.loss = self.pocket.loss\n",
    "    \n",
    "    def put_into_pocket(self,result):\n",
    "        # 检查是否放入口袋，防止劣化\n",
    "        if self.pocket == None:\n",
    "            self.pocket = Pocket(result[1],result[2],result[0])\n",
    "            return True\n",
    "        else:\n",
    "            if self.pocket.loss > result[0]:\n",
    "                self.pocket = Pocket(result[1],result[2],result[0])\n",
    "            return True\n",
    "        return False\n",
    "            \n",
    "            # print('epoch:',i,'weight:',self.weight,'bias:',self.bias,'loss:',self.loss(X,Y)"
   ]
  },
  {
   "cell_type": "code",
   "execution_count": 241,
   "metadata": {
    "slideshow": {
     "slide_type": "subslide"
    }
   },
   "outputs": [
    {
     "name": "stdout",
     "output_type": "stream",
     "text": [
      "weight:[0.20927496 0.24804245] bias:[-0.0714298] loss:0\n"
     ]
    },
    {
     "data": {
      "image/png": "[encoded data removed]",
      "text/plain": [
       "<Figure size 432x288 with 1 Axes>"
      ]
     },
     "metadata": {
      "needs_background": "light"
     },
     "output_type": "display_data"
    },
    {
     "name": "stdout",
     "output_type": "stream",
     "text": [
      "AND\t (-1, -1) \t正确结果： -1 \t预测结果： -1\n",
      "AND\t (-1, 1) \t正确结果： -1 \t预测结果： -1\n",
      "AND\t (1, -1) \t正确结果： -1 \t预测结果： -1\n",
      "AND\t (1, 1) \t正确结果： 1 \t预测结果： 1\n"
     ]
    }
   ],
   "source": [
    "pocket_percetron_and = PocketPerceptron(dim=2)\n",
    "pocket_percetron_and.train(X,Y_and)\n",
    "\n",
    "print(pocket_percetron_and)\n",
    "draw2_and(pocket_percetron_and.pocket.weight[0],pocket_percetron_and.pocket.weight[1],pocket_percetron_and.pocket.bias)\n",
    "for m in zip(X,Y_and):\n",
    "    print('AND\\t',m[0],'\\t正确结果：',m[-1],'\\t预测结果：',pocket_percetron_and.predict(m[0]))"
   ]
  },
  {
   "cell_type": "code",
   "execution_count": 242,
   "metadata": {
    "slideshow": {
     "slide_type": "subslide"
    }
   },
   "outputs": [
    {
     "name": "stdout",
     "output_type": "stream",
     "text": [
      "weight:[0.54055169 0.42016706] bias:[0.30762914] loss:0\n"
     ]
    },
    {
     "data": {
      "image/png": "[encoded data removed]",
      "text/plain": [
       "<Figure size 432x288 with 1 Axes>"
      ]
     },
     "metadata": {
      "needs_background": "light"
     },
     "output_type": "display_data"
    },
    {
     "name": "stdout",
     "output_type": "stream",
     "text": [
      "or\t (-1, -1) \t正确结果： -1 \t预测结果： -1\n",
      "or\t (-1, 1) \t正确结果： 1 \t预测结果： 1\n",
      "or\t (1, -1) \t正确结果： 1 \t预测结果： 1\n",
      "or\t (1, 1) \t正确结果： 1 \t预测结果： 1\n"
     ]
    }
   ],
   "source": [
    "pocket_percetron_or = PocketPerceptron(dim=2)\n",
    "pocket_percetron_or.train(X,Y_or)\n",
    "\n",
    "print(pocket_percetron_or)\n",
    "draw2_or(pocket_percetron_or.pocket.weight[0],pocket_percetron_or.pocket.weight[1],pocket_percetron_or.pocket.bias)\n",
    "for m in zip(X,Y_or):\n",
    "    print('or\\t',m[0],'\\t正确结果：',m[-1],'\\t预测结果：',pocket_percetron_or.predict(m[0]))"
   ]
  },
  {
   "cell_type": "markdown",
   "metadata": {
    "slideshow": {
     "slide_type": "slide"
    }
   },
   "source": [
    "# 小结"
   ]
  },
  {
   "cell_type": "markdown",
   "metadata": {
    "slideshow": {
     "slide_type": "subslide"
    }
   },
   "source": [
    "## 区别与联系\n",
    "- 阈值与偏置\n",
    "- 手动与自动\n",
    "- loss和lr\n",
    "- 针对线性可分问题"
   ]
  }
 ],
 "metadata": {
  "celltoolbar": "幻灯片",
  "kernelspec": {
   "display_name": "Python [conda env:dl] *",
   "language": "python",
   "name": "conda-env-dl-py"
  },
  "language_info": {
   "codemirror_mode": {
    "name": "ipython",
    "version": 3
   },
   "file_extension": ".py",
   "mimetype": "text/x-python",
   "name": "python",
   "nbconvert_exporter": "python",
   "pygments_lexer": "ipython3",
   "version": "3.8.13"
  }
 },
 "nbformat": 4,
 "nbformat_minor": 2
}
